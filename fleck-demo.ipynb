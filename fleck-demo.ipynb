{
 "cells": [
  {
   "cell_type": "code",
   "execution_count": null,
   "id": "e25d59a1-efd9-43df-bebc-eb889ac894d2",
   "metadata": {},
   "outputs": [],
   "source": [
    "%%bash\n",
    "\n",
    "pip install -r requirements.txt"
   ]
  },
  {
   "cell_type": "code",
   "execution_count": null,
   "id": "d4baf17d-eb6d-414c-9edf-0b3df0546ef1",
   "metadata": {},
   "outputs": [],
   "source": [
    "from shone.opacity import Opacity\n",
    "import numpy as np\n",
    "import matplotlib.pyplot as plt\n",
    "\n",
    "# load the tiny opacity archive:\n",
    "tiny_opacity = Opacity.load_demo_species('H2O')\n",
    "\n",
    "# get a jitted interpolator:\n",
    "interp_opacity = tiny_opacity.get_interpolator()\n",
    "\n",
    "# get opacity at several temperatures, all at 1 bar:\n",
    "wavelength = np.geomspace(0.6, 5, 500)  # [µm]\n",
    "temperature = np.geomspace(100, 3000, 5)  # [K]\n",
    "pressure = np.ones_like(temperature)  # [bar]\n",
    "\n",
    "kappa = interp_opacity(wavelength, temperature, pressure)\n",
    "\n",
    "# plot the opacities:\n",
    "n = len(temperature)\n",
    "ax = plt.gca()\n",
    "\n",
    "for i in range(n):\n",
    "    color = plt.cm.plasma(i / n)\n",
    "    label = f\"{temperature[i]:.0f} K\"\n",
    "    ax.semilogy(wavelength, kappa[i], label=label, color=color)\n",
    "\n",
    "ax.legend(title='Temperature', loc='lower right', framealpha=1)\n",
    "ax.set(\n",
    "    xlabel='Wavelength [µm]',\n",
    "    ylabel='Opacity [cm$^2$ g$^{-1}$]',\n",
    "    title=\"Demo opacity: H$_2$O\"\n",
    ")"
   ]
  },
  {
   "cell_type": "code",
   "execution_count": null,
   "id": "49a981c4-9b67-48e5-9180-e0b059d8b5ef",
   "metadata": {},
   "outputs": [],
   "source": []
  }
 ],
 "metadata": {
  "kernelspec": {
   "display_name": "Python 3 (ipykernel)",
   "language": "python",
   "name": "python3"
  },
  "language_info": {
   "codemirror_mode": {
    "name": "ipython",
    "version": 3
   },
   "file_extension": ".py",
   "mimetype": "text/x-python",
   "name": "python",
   "nbconvert_exporter": "python",
   "pygments_lexer": "ipython3",
   "version": "3.11.5"
  }
 },
 "nbformat": 4,
 "nbformat_minor": 5
}
